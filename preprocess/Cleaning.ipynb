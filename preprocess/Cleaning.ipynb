{
 "cells": [
  {
   "cell_type": "code",
   "execution_count": 11,
   "metadata": {},
   "outputs": [],
   "source": [
    "# Importing all necessary modules\n",
    "import numpy as np\n",
    "import pandas as pd\n",
    "import nltk\n",
    "from wordcloud import WordCloud, STOPWORDS \n",
    "import matplotlib.pyplot as plt \n"
   ]
  },
  {
   "cell_type": "code",
   "execution_count": 21,
   "metadata": {},
   "outputs": [
    {
     "name": "stdout",
     "output_type": "stream",
     "text": [
      "Number of poems loaded: 573 \n",
      "Number of poems loaded after removing duplicates: 509 \n"
     ]
    },
    {
     "data": {
      "text/html": [
       "<div>\n",
       "<style scoped>\n",
       "    .dataframe tbody tr th:only-of-type {\n",
       "        vertical-align: middle;\n",
       "    }\n",
       "\n",
       "    .dataframe tbody tr th {\n",
       "        vertical-align: top;\n",
       "    }\n",
       "\n",
       "    .dataframe thead th {\n",
       "        text-align: right;\n",
       "    }\n",
       "</style>\n",
       "<table border=\"1\" class=\"dataframe\">\n",
       "  <thead>\n",
       "    <tr style=\"text-align: right;\">\n",
       "      <th></th>\n",
       "      <th>author</th>\n",
       "      <th>content</th>\n",
       "      <th>poem name</th>\n",
       "      <th>age</th>\n",
       "      <th>type</th>\n",
       "    </tr>\n",
       "  </thead>\n",
       "  <tbody>\n",
       "    <tr>\n",
       "      <th>1</th>\n",
       "      <td>DUCHESS OF NEWCASTLE MARGARET CAVENDISH</td>\n",
       "      <td>Sir Charles into my chamber coming in,\\nWhen I...</td>\n",
       "      <td>An Epilogue to the Above</td>\n",
       "      <td>Renaissance</td>\n",
       "      <td>Mythology &amp; Folklore</td>\n",
       "    </tr>\n",
       "    <tr>\n",
       "      <th>2</th>\n",
       "      <td>THOMAS BASTARD</td>\n",
       "      <td>Our vice runs beyond all that old men saw,\\nAn...</td>\n",
       "      <td>Book 7, Epigram 42</td>\n",
       "      <td>Renaissance</td>\n",
       "      <td>Mythology &amp; Folklore</td>\n",
       "    </tr>\n",
       "    <tr>\n",
       "      <th>3</th>\n",
       "      <td>EDMUND SPENSER</td>\n",
       "      <td>Lo I the man, whose Muse whilome did maske,\\nA...</td>\n",
       "      <td>from The Faerie Queene: Book I, Canto I</td>\n",
       "      <td>Renaissance</td>\n",
       "      <td>Mythology &amp; Folklore</td>\n",
       "    </tr>\n",
       "    <tr>\n",
       "      <th>8</th>\n",
       "      <td>JOHN DONNE</td>\n",
       "      <td>When by thy scorn, O murd'ress, I am dead\\n   ...</td>\n",
       "      <td>The Apparition</td>\n",
       "      <td>Renaissance</td>\n",
       "      <td>Mythology &amp; Folklore</td>\n",
       "    </tr>\n",
       "    <tr>\n",
       "      <th>9</th>\n",
       "      <td>JOHN SKELTON</td>\n",
       "      <td>Pla ce bo,\\nWho is there, who?\\nDi le xi,\\nDam...</td>\n",
       "      <td>The Book of Phillip Sparrow</td>\n",
       "      <td>Renaissance</td>\n",
       "      <td>Mythology &amp; Folklore</td>\n",
       "    </tr>\n",
       "  </tbody>\n",
       "</table>\n",
       "</div>"
      ],
      "text/plain": [
       "                                    author  \\\n",
       "1  DUCHESS OF NEWCASTLE MARGARET CAVENDISH   \n",
       "2                           THOMAS BASTARD   \n",
       "3                           EDMUND SPENSER   \n",
       "8                               JOHN DONNE   \n",
       "9                             JOHN SKELTON   \n",
       "\n",
       "                                             content  \\\n",
       "1  Sir Charles into my chamber coming in,\\nWhen I...   \n",
       "2  Our vice runs beyond all that old men saw,\\nAn...   \n",
       "3  Lo I the man, whose Muse whilome did maske,\\nA...   \n",
       "8  When by thy scorn, O murd'ress, I am dead\\n   ...   \n",
       "9  Pla ce bo,\\nWho is there, who?\\nDi le xi,\\nDam...   \n",
       "\n",
       "                                 poem name          age                  type  \n",
       "1                 An Epilogue to the Above  Renaissance  Mythology & Folklore  \n",
       "2                       Book 7, Epigram 42  Renaissance  Mythology & Folklore  \n",
       "3  from The Faerie Queene: Book I, Canto I  Renaissance  Mythology & Folklore  \n",
       "8                           The Apparition  Renaissance  Mythology & Folklore  \n",
       "9              The Book of Phillip Sparrow  Renaissance  Mythology & Folklore  "
      ]
     },
     "execution_count": 21,
     "metadata": {},
     "output_type": "execute_result"
    }
   ],
   "source": [
    "# Set seed for reproducibility\n",
    "np.random.seed(5)\n",
    "\n",
    "# Read the poem data \n",
    "poems_df = pd.read_csv('all.csv')\n",
    "\n",
    "print(\"Number of poems loaded: %s \" % (len(poems_df)))\n",
    "\n",
    "#Remove duplicates\n",
    "poems_df = poems_df.drop_duplicates(subset='poem name', keep=\"last\")\n",
    "\n",
    "print(\"Number of poems loaded after removing duplicates: %s \" % (len(poems_df)))\n",
    "\n",
    "# Display the data\n",
    "poems_df.head()"
   ]
  },
  {
   "cell_type": "code",
   "execution_count": 13,
   "metadata": {},
   "outputs": [
    {
     "name": "stdout",
     "output_type": "stream",
     "text": [
      "<class 'pandas.core.frame.DataFrame'>\n",
      "Int64Index: 509 entries, 1 to 572\n",
      "Data columns (total 5 columns):\n",
      " #   Column     Non-Null Count  Dtype \n",
      "---  ------     --------------  ----- \n",
      " 0   author     509 non-null    object\n",
      " 1   content    509 non-null    object\n",
      " 2   poem name  508 non-null    object\n",
      " 3   age        509 non-null    object\n",
      " 4   type       509 non-null    object\n",
      "dtypes: object(5)\n",
      "memory usage: 23.9+ KB\n"
     ]
    }
   ],
   "source": [
    "# handling missing datas\n",
    "poems_df.info()"
   ]
  },
  {
   "cell_type": "code",
   "execution_count": 14,
   "metadata": {},
   "outputs": [
    {
     "data": {
      "text/html": [
       "<div>\n",
       "<style scoped>\n",
       "    .dataframe tbody tr th:only-of-type {\n",
       "        vertical-align: middle;\n",
       "    }\n",
       "\n",
       "    .dataframe tbody tr th {\n",
       "        vertical-align: top;\n",
       "    }\n",
       "\n",
       "    .dataframe thead th {\n",
       "        text-align: right;\n",
       "    }\n",
       "</style>\n",
       "<table border=\"1\" class=\"dataframe\">\n",
       "  <thead>\n",
       "    <tr style=\"text-align: right;\">\n",
       "      <th></th>\n",
       "      <th>author</th>\n",
       "      <th>content</th>\n",
       "      <th>poem name</th>\n",
       "      <th>age</th>\n",
       "      <th>type</th>\n",
       "    </tr>\n",
       "  </thead>\n",
       "  <tbody>\n",
       "    <tr>\n",
       "      <th>489</th>\n",
       "      <td>RICHARD ALDINGTON</td>\n",
       "      <td>The ancient songs\\nPass deathward mournfully.\\...</td>\n",
       "      <td>NaN</td>\n",
       "      <td>Modern</td>\n",
       "      <td>Nature</td>\n",
       "    </tr>\n",
       "  </tbody>\n",
       "</table>\n",
       "</div>"
      ],
      "text/plain": [
       "                author                                            content  \\\n",
       "489  RICHARD ALDINGTON  The ancient songs\\nPass deathward mournfully.\\...   \n",
       "\n",
       "    poem name     age    type  \n",
       "489       NaN  Modern  Nature  "
      ]
     },
     "execution_count": 14,
     "metadata": {},
     "output_type": "execute_result"
    }
   ],
   "source": [
    "poems_df[poems_df['poem name'].isnull()]"
   ]
  },
  {
   "cell_type": "code",
   "execution_count": 15,
   "metadata": {},
   "outputs": [
    {
     "name": "stdout",
     "output_type": "stream",
     "text": [
      "<class 'pandas.core.frame.DataFrame'>\n",
      "Int64Index: 508 entries, 1 to 572\n",
      "Data columns (total 5 columns):\n",
      " #   Column     Non-Null Count  Dtype \n",
      "---  ------     --------------  ----- \n",
      " 0   author     508 non-null    object\n",
      " 1   content    508 non-null    object\n",
      " 2   poem name  508 non-null    object\n",
      " 3   age        508 non-null    object\n",
      " 4   type       508 non-null    object\n",
      "dtypes: object(5)\n",
      "memory usage: 23.8+ KB\n"
     ]
    }
   ],
   "source": [
    "# removing null values\n",
    "\n",
    "poems_df = poems_df[pd.notnull(poems_df['poem name'])]\n",
    "\n",
    "poems_df.info()"
   ]
  },
  {
   "cell_type": "code",
   "execution_count": 18,
   "metadata": {},
   "outputs": [
    {
     "data": {
      "text/plain": [
       "1     Sir Charles into my chamber coming in,\\nWhen I...\n",
       "2     Our vice runs beyond all that old men saw,\\nAn...\n",
       "3     Lo I the man, whose Muse whilome did maske,\\nA...\n",
       "8     When by thy scorn, O murd'ress, I am dead\\n   ...\n",
       "9     Pla ce bo,\\nWho is there, who?\\nDi le xi,\\nDam...\n",
       "10    Ye learned sisters which have oftentimes\\nBeen...\n",
       "12    By that he ended had his ghostly sermon,\\nThe ...\n",
       "20    The welcome Sun from sea Freake is returned,\\n...\n",
       "21    I met a courtier riding on the plain,\\nWell-mo...\n",
       "22    Walking the fields a wantcatcher I spied,\\nTo ...\n",
       "23    Fishing, if I a fisher may protest,\\nOf pleasu...\n",
       "25    Januarie. gloga prima. ARGVMENT.\\n\\n    IN thi...\n",
       "26    Where the bee sucks, there suck I:\\nIn a cowsl...\n",
       "28    As I in hoary winters night stood shivering in...\n",
       "29    Care for thy soul as thing of greatest price,\\...\n",
       "Name: ori_content, dtype: object"
      ]
     },
     "execution_count": 18,
     "metadata": {},
     "output_type": "execute_result"
    }
   ],
   "source": [
    "poems_df['ori_content']=poems_df['content']\n",
    "poems_df['ori_content'].head(15)"
   ]
  },
  {
   "cell_type": "code",
   "execution_count": 19,
   "metadata": {},
   "outputs": [
    {
     "name": "stdout",
     "output_type": "stream",
     "text": [
      "Sir Charles into my chamber coming in,\n",
      "When I was writing of my Fairy Queen;\n",
      "I praysaid hewhen Queen Mab you do see\n",
      "Present my service to her Majesty:\n",
      "And tell her I have heard Fame's loud report\n",
      "Both of her beauty and her stately court.\n",
      "When I Queen Mab within my fancy viewed,\n",
      "My thoughts bowed low, fearing I should be rude;\n",
      "Kissing her garment thin which fancy made,\n",
      "I knelt upon a thought, like one that prayed;\n",
      "And then, in whispers soft, I did present\n",
      "His humble service which in mirth was sent;\n",
      "Thus by imagination I have been\n",
      "In Fairy court and seen the Fairy Queen.\n"
     ]
    }
   ],
   "source": [
    "#replacing newlines\n",
    "print(poems_df[\"content\"].iloc[0].replace(\"<br/>\",\"\\n\"))"
   ]
  },
  {
   "cell_type": "code",
   "execution_count": 20,
   "metadata": {},
   "outputs": [],
   "source": [
    "poems_df.to_csv('poem_cleaned.csv')"
   ]
  },
  {
   "cell_type": "code",
   "execution_count": null,
   "metadata": {},
   "outputs": [],
   "source": []
  }
 ],
 "metadata": {
  "kernelspec": {
   "display_name": "Python 3",
   "language": "python",
   "name": "python3"
  },
  "language_info": {
   "codemirror_mode": {
    "name": "ipython",
    "version": 3
   },
   "file_extension": ".py",
   "mimetype": "text/x-python",
   "name": "python",
   "nbconvert_exporter": "python",
   "pygments_lexer": "ipython3",
   "version": "3.8.3"
  }
 },
 "nbformat": 4,
 "nbformat_minor": 4
}
